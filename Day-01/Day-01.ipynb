{
 "cells": [
  {
   "cell_type": "markdown",
   "id": "cadd13f1",
   "metadata": {},
   "source": [
    "# Python Day-01\n"
   ]
  },
  {
   "cell_type": "markdown",
   "id": "876a641b",
   "metadata": {},
   "source": [
    "  "
   ]
  },
  {
   "cell_type": "markdown",
   "id": "7ab64ab8",
   "metadata": {},
   "source": [
    "# BASICS"
   ]
  },
  {
   "cell_type": "markdown",
   "id": "bda6405f",
   "metadata": {},
   "source": [
    "Introduction to Python:\n",
    "    \n",
    "What is Python?\n",
    "Python is a widely used general-purpose, high level programming language. It was created by Guido van Rossum in 1991 and further developed by the Python Software Foundation. It was designed with an emphasis on code readability, and its syntax allows programmers to express their concepts in fewer lines of code.\n",
    "\n",
    "\n",
    "Why is Python popular and widely used?\n",
    "• Emphasis on code readability, shorter codes, ease of writing\n",
    "• Programmers can express logical concepts in fewer lines of code in comparison to languages such as C++ or Java.\n",
    "• Python supports multiple programming paradigms, like object-oriented, imperative and functional programming or procedural.\n",
    "• There exists inbuilt functions for almost all of the frequently used concepts.\n",
    "• Philosophy is “Simplicity is the best”.\n",
    "\n",
    "\n",
    "LANGUAGE FEATURES\n",
    "\n",
    "• Interpreted\n",
    "    > There are no separate compilation and execution steps like C and C++.\n",
    "    > Directly run the program from the source code.\n",
    "    > Internally, Python converts the source code into an intermediate form called bytecodes which is then translated into native language of specific computer to run it.\n",
    "    > No need to worry about linking and loading with libraries, etc.\n",
    "\n",
    "• Platform Independent\n",
    "    > Python programs can be developed and executed on multiple operating system platforms.\n",
    "    > Python can be used on Linux, Windows, Macintosh, Solaris and many more.\n",
    "\n",
    "• Free and Open Source; Redistributable\n",
    "\n",
    "• High-level Language\n",
    "    > In Python, no need to take care about low-level details such as managing the memory used by the program.\n",
    "\n",
    "• Simple\n",
    "    > Closer to English language;Easy to Learn\n",
    "    > More emphasis on the solution to the problem rather than the syntax\n",
    "\n",
    "• Embeddable\n",
    "    > Python can be used within C/C++ program to give scripting capabilities for the program’s users.\n",
    "\n",
    "• Robust:\n",
    "    > Exceptional handling features\n",
    "    > Memory management techniques in built\n",
    "\n",
    "• Rich Library Support\n",
    "    > The Python Standard Library is very vast.\n",
    "    > Known as the “batteries included” philosophy of Python ;It can help do various things involving regular expressions, documentation generation, unit testing, threading, databases, web browsers, CGI, email, XML, HTML, WAV files, cryptography, GUI and many more.\n",
    "    > Besides the standard library, there are various other high-quality libraries such as the Python Imaging Library which is an amazingly simple image manipulation library.\n",
    "\n"
   ]
  },
  {
   "cell_type": "code",
   "execution_count": 1,
   "id": "e9db2448",
   "metadata": {},
   "outputs": [
    {
     "name": "stdout",
     "output_type": "stream",
     "text": [
      "Hello World!\n"
     ]
    }
   ],
   "source": [
    "#First Python Program \n",
    "print(\"Hello World!\")"
   ]
  },
  {
   "cell_type": "code",
   "execution_count": 2,
   "id": "e5a21557",
   "metadata": {},
   "outputs": [
    {
     "name": "stdout",
     "output_type": "stream",
     "text": [
      "7\n"
     ]
    }
   ],
   "source": [
    "print(4+3)"
   ]
  },
  {
   "cell_type": "code",
   "execution_count": 3,
   "id": "a67f73ed",
   "metadata": {},
   "outputs": [
    {
     "data": {
      "text/plain": [
       "7"
      ]
     },
     "execution_count": 3,
     "metadata": {},
     "output_type": "execute_result"
    }
   ],
   "source": [
    "9-2"
   ]
  },
  {
   "cell_type": "code",
   "execution_count": 4,
   "id": "4fa070f9",
   "metadata": {},
   "outputs": [
    {
     "data": {
      "text/plain": [
       "28"
      ]
     },
     "execution_count": 4,
     "metadata": {},
     "output_type": "execute_result"
    }
   ],
   "source": [
    "7*4"
   ]
  },
  {
   "cell_type": "code",
   "execution_count": 5,
   "id": "18b697b8",
   "metadata": {},
   "outputs": [
    {
     "data": {
      "text/plain": [
       "3.5"
      ]
     },
     "execution_count": 5,
     "metadata": {},
     "output_type": "execute_result"
    }
   ],
   "source": [
    "7/2"
   ]
  },
  {
   "cell_type": "code",
   "execution_count": 6,
   "id": "759cbb5a",
   "metadata": {},
   "outputs": [
    {
     "data": {
      "text/plain": [
       "3"
      ]
     },
     "execution_count": 6,
     "metadata": {},
     "output_type": "execute_result"
    }
   ],
   "source": [
    "7//2\n"
   ]
  },
  {
   "cell_type": "code",
   "execution_count": 7,
   "id": "e6196e7e",
   "metadata": {},
   "outputs": [
    {
     "data": {
      "text/plain": [
       "1"
      ]
     },
     "execution_count": 7,
     "metadata": {},
     "output_type": "execute_result"
    }
   ],
   "source": [
    "7%2"
   ]
  }
 ],
 "metadata": {
  "kernelspec": {
   "display_name": "Python 3 (ipykernel)",
   "language": "python",
   "name": "python3"
  },
  "language_info": {
   "codemirror_mode": {
    "name": "ipython",
    "version": 3
   },
   "file_extension": ".py",
   "mimetype": "text/x-python",
   "name": "python",
   "nbconvert_exporter": "python",
   "pygments_lexer": "ipython3",
   "version": "3.11.5"
  }
 },
 "nbformat": 4,
 "nbformat_minor": 5
}
