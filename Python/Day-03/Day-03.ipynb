{
 "cells": [
  {
   "cell_type": "markdown",
   "id": "64f3ae1b",
   "metadata": {},
   "source": [
    "# Day-03\n",
    "\n",
    "# Strings in Python"
   ]
  },
  {
   "cell_type": "code",
   "execution_count": null,
   "id": "db44fa9d",
   "metadata": {},
   "outputs": [],
   "source": [
    "String is Immutable"
   ]
  },
  {
   "cell_type": "code",
   "execution_count": null,
   "id": "f31e8eb6",
   "metadata": {},
   "outputs": [],
   "source": [
    "\n",
    "# Creating String\n",
    "my_string = \"Hello, Python!\"\n",
    "\n",
    "\n",
    "# Accessing Character using index\n",
    "first_char = my_string[0]  # This will be 'H'\n",
    "second_char = my_string[1]  # This will be 'e'\n",
    "\n",
    "\n",
    "#len() function \n",
    "my_string = \"Hello, Python!\"\n",
    "length = len(my_string)  # This will be 13\n",
    "\n",
    "\n",
    "#String Slicing\n",
    "my_string = \"Hello, Python!\"\n",
    "substring = my_string[0:5]  # This will be \"Hello\"\n",
    "\n",
    "\n"
   ]
  },
  {
   "cell_type": "markdown",
   "id": "04599bf5",
   "metadata": {},
   "source": [
    "# String method"
   ]
  },
  {
   "cell_type": "code",
   "execution_count": 1,
   "id": "2b96bce6",
   "metadata": {},
   "outputs": [],
   "source": [
    "# str.upper() and str.lower() - Convert a string to uppercase or lowercase.\n",
    "\n",
    "my_string = \"Hello, Python!\"\n",
    "upper_case = my_string.upper()  # Converts to uppercase\n",
    "lower_case = my_string.lower()  # Converts to lowercase\n"
   ]
  },
  {
   "cell_type": "code",
   "execution_count": 3,
   "id": "d9bbaed0",
   "metadata": {},
   "outputs": [
    {
     "name": "stdout",
     "output_type": "stream",
     "text": [
      "Hello, Python!\n"
     ]
    }
   ],
   "source": [
    "# str.strip() - Removes leading and trailing whitespace.\n",
    "\n",
    "my_string = \"   Hello, Python!   \"\n",
    "stripped = my_string.strip() \n",
    "print(stripped)     # Removes leading and trailing spaces"
   ]
  },
  {
   "cell_type": "code",
   "execution_count": 6,
   "id": "376c54ff",
   "metadata": {},
   "outputs": [
    {
     "name": "stdout",
     "output_type": "stream",
     "text": [
      "['apple', 'banana', 'cherry']\n"
     ]
    }
   ],
   "source": [
    "# str.split() - Splits a string into a list of substrings based on a delimiter.\n",
    "\n",
    "my_string = \"apple, banana, cherry\"\n",
    "fruits = my_string.split(\", \")  # Splits into a list of fruits\n",
    "print(fruits)\n"
   ]
  },
  {
   "cell_type": "code",
   "execution_count": 3,
   "id": "276c294b",
   "metadata": {},
   "outputs": [
    {
     "name": "stdout",
     "output_type": "stream",
     "text": [
      "7\n"
     ]
    }
   ],
   "source": [
    "# str.find() - Searches for a substring within a string and returns its position (index).\n",
    "\n",
    "my_string = \"Hello, Python!\"\n",
    "position = my_string.find(\"Python\")  # Finds \"Python\" at position 7\n",
    "print(position)"
   ]
  },
  {
   "cell_type": "code",
   "execution_count": 6,
   "id": "189777d2",
   "metadata": {},
   "outputs": [
    {
     "name": "stdout",
     "output_type": "stream",
     "text": [
      "Hello, World!\n"
     ]
    }
   ],
   "source": [
    "# str.replace() - Replaces a substring with another string.\n",
    "\n",
    "my_string = \"Hello, Python!\"\n",
    "new_string = my_string.replace(\"Python\", \"World\")  # Replaces \"Python\" with \"World\"\n",
    "print(new_string)"
   ]
  },
  {
   "cell_type": "code",
   "execution_count": 2,
   "id": "3b200a2f",
   "metadata": {},
   "outputs": [
    {
     "name": "stdout",
     "output_type": "stream",
     "text": [
      "Hello, word\n"
     ]
    }
   ],
   "source": [
    "# str.capitalize():\n",
    "# Returns a copy of the string with its first character capitalized and the rest in lowercase.\n",
    "\n",
    "text = \"hello, wOrld\"\n",
    "capitalized_text = text.capitalize()\n",
    "print(capitalized_text)  # Output: \"Hello, world\"\n"
   ]
  },
  {
   "cell_type": "code",
   "execution_count": 8,
   "id": "9575a7a7",
   "metadata": {},
   "outputs": [
    {
     "name": "stdout",
     "output_type": "stream",
     "text": [
      "**Python**\n"
     ]
    }
   ],
   "source": [
    "# str.center(width, fillchar):\n",
    "# Returns a centered string of a specified width with padding characters.\n",
    "\n",
    "text = \"Python\"\n",
    "centered_text = text.center(10, '*')\n",
    "print(centered_text)  # Output: \"**Python**\"\n"
   ]
  },
  {
   "cell_type": "code",
   "execution_count": 9,
   "id": "ffbb6fba",
   "metadata": {},
   "outputs": [
    {
     "name": "stdout",
     "output_type": "stream",
     "text": [
      "2\n"
     ]
    }
   ],
   "source": [
    "# str.count(substring):\n",
    "# Returns the number of non-overlapping occurrences of a substring in the string.\n",
    "\n",
    "\n",
    "text = \"Python is an easy language, Python is popular.\"\n",
    "count = text.count(\"Python\")\n",
    "print(count)  # Output: 2\n"
   ]
  },
  {
   "cell_type": "code",
   "execution_count": 10,
   "id": "a6c3d6b0",
   "metadata": {},
   "outputs": [
    {
     "name": "stdout",
     "output_type": "stream",
     "text": [
      "True\n"
     ]
    }
   ],
   "source": [
    "# str.endswith(suffix):\n",
    "# Checks if the string ends with a specified suffix and returns a boolean.\n",
    "\n",
    "text = \"Hello, world\"\n",
    "is_ending_with_world = text.endswith(\"world\")\n",
    "print(is_ending_with_world)  # Output: True\n"
   ]
  },
  {
   "cell_type": "code",
   "execution_count": 11,
   "id": "d4b5ae62",
   "metadata": {},
   "outputs": [
    {
     "name": "stdout",
     "output_type": "stream",
     "text": [
      "True\n"
     ]
    }
   ],
   "source": [
    "# str.startswith(prefix):\n",
    "# Checks if the string starts with a specified prefix and returns a boolean.\n",
    "\n",
    "text = \"Hello, world\"\n",
    "is_starting_with_hello = text.startswith(\"Hello\")\n",
    "print(is_starting_with_hello)  # Output: True\n"
   ]
  },
  {
   "cell_type": "code",
   "execution_count": 12,
   "id": "1bce7c17",
   "metadata": {},
   "outputs": [
    {
     "name": "stdout",
     "output_type": "stream",
     "text": [
      "True\n"
     ]
    }
   ],
   "source": [
    "# str.isalnum():\n",
    "# Checks if all characters in the string are alphanumeric (letters and numbers).\n",
    "\n",
    "text = \"Python123\"\n",
    "is_alphanumeric = text.isalnum()\n",
    "print(is_alphanumeric)  # Output: True\n"
   ]
  },
  {
   "cell_type": "code",
   "execution_count": 13,
   "id": "9aa18222",
   "metadata": {},
   "outputs": [
    {
     "name": "stdout",
     "output_type": "stream",
     "text": [
      "True\n"
     ]
    }
   ],
   "source": [
    "# str.isalpha():\n",
    "# Checks if all characters in the string are alphabetic (letters).\n",
    "\n",
    "text = \"Python\"\n",
    "is_alpha = text.isalpha()\n",
    "print(is_alpha)  # Output: True\n"
   ]
  },
  {
   "cell_type": "code",
   "execution_count": 14,
   "id": "0a9779a3",
   "metadata": {},
   "outputs": [
    {
     "name": "stdout",
     "output_type": "stream",
     "text": [
      "True\n"
     ]
    }
   ],
   "source": [
    "# str.isnumeric():\n",
    "# Checks if all characters in the string are numeric (digits).\n",
    "\n",
    "text = \"12345\"\n",
    "is_numeric = text.isnumeric()\n",
    "print(is_numeric)  # Output: True"
   ]
  },
  {
   "cell_type": "code",
   "execution_count": 15,
   "id": "e11d9530",
   "metadata": {},
   "outputs": [
    {
     "name": "stdout",
     "output_type": "stream",
     "text": [
      "True\n"
     ]
    }
   ],
   "source": [
    "# str.isdigit():\n",
    "# Checks if all characters in the string are digits.\n",
    "\n",
    "text = \"12345\"\n",
    "is_digit = text.isdigit()\n",
    "print(is_digit)  # Output: True\n"
   ]
  },
  {
   "cell_type": "code",
   "execution_count": 16,
   "id": "71b1a02b",
   "metadata": {},
   "outputs": [
    {
     "name": "stdout",
     "output_type": "stream",
     "text": [
      "True\n"
     ]
    }
   ],
   "source": [
    "# str.islower():\n",
    "# Checks if all characters in the string are lowercase.\n",
    "\n",
    "text = \"python\"\n",
    "is_lower = text.islower()\n",
    "print(is_lower)  # Output: True\n"
   ]
  },
  {
   "cell_type": "code",
   "execution_count": 17,
   "id": "d27c2789",
   "metadata": {},
   "outputs": [
    {
     "name": "stdout",
     "output_type": "stream",
     "text": [
      "True\n"
     ]
    }
   ],
   "source": [
    "# str.isupper():\n",
    "# Checks if all characters in the string are uppercase.\n",
    "\n",
    "text = \"PYTHON\"\n",
    "is_upper = text.isupper()\n",
    "print(is_upper)  # Output: True\n"
   ]
  },
  {
   "cell_type": "code",
   "execution_count": null,
   "id": "0a09c1c5",
   "metadata": {},
   "outputs": [],
   "source": [
    "# str.join(iterable):\n",
    "# Joins the elements of an iterable with the string as a separator.\n",
    "\n",
    "fruits = [\"apple\", \"banana\", \"cherry\"]\n",
    "separator = \", \"\n",
    "joined_string = separator.join(fruits)\n",
    "print(joined_string)  # Output: \"apple, banana, cherry\"\n"
   ]
  },
  {
   "cell_type": "code",
   "execution_count": 19,
   "id": "3af415c1",
   "metadata": {},
   "outputs": [
    {
     "name": "stdout",
     "output_type": "stream",
     "text": [
      "Python\n"
     ]
    }
   ],
   "source": [
    "# str.lstrip():\n",
    "# Removes leading whitespace characters from the string.\n",
    "\n",
    "text = \"   Python\"\n",
    "stripped_text = text.lstrip()\n",
    "print(stripped_text)  # Output: \"Python\"\n"
   ]
  },
  {
   "cell_type": "code",
   "execution_count": 20,
   "id": "49215da0",
   "metadata": {},
   "outputs": [
    {
     "name": "stdout",
     "output_type": "stream",
     "text": [
      "Python\n"
     ]
    }
   ],
   "source": [
    "# str.rstrip():\n",
    "# Removes trailing whitespace characters from the string.\n",
    "\n",
    "text = \"Python   \"\n",
    "stripped_text = text.rstrip()\n",
    "print(stripped_text)  # Output: \"Python\"\n"
   ]
  },
  {
   "cell_type": "code",
   "execution_count": 21,
   "id": "f260eab8",
   "metadata": {},
   "outputs": [
    {
     "name": "stdout",
     "output_type": "stream",
     "text": [
      "('apple', ', ', 'banana, cherry')\n"
     ]
    }
   ],
   "source": [
    "# str.partition(separator):\n",
    "# Splits the string at the first occurrence of a separator and returns a tuple with three elements (before separator, separator, after separator).\n",
    "\n",
    "text = \"apple, banana, cherry\"\n",
    "parts = text.partition(\", \")\n",
    "print(parts)  # Output: ('apple', ', ', 'banana, cherry')\n",
    "\n"
   ]
  },
  {
   "cell_type": "code",
   "execution_count": 22,
   "id": "6df8efda",
   "metadata": {},
   "outputs": [],
   "source": [
    "# str.rpartition(separator):\n",
    "# Splits the string at the last occurrence of a separator and returns a tuple with three elements (before separator, separator, after separator)."
   ]
  },
  {
   "cell_type": "code",
   "execution_count": 23,
   "id": "ad1a69e3",
   "metadata": {},
   "outputs": [
    {
     "name": "stdout",
     "output_type": "stream",
     "text": [
      "pYTHON iS fUN\n"
     ]
    }
   ],
   "source": [
    "# str.swapcase():\n",
    "# Returns a string with uppercase characters converted to lowercase and vice versa.\n",
    "\n",
    "text = \"Python Is Fun\"\n",
    "swapped_case_text = text.swapcase()\n",
    "print(swapped_case_text)  # Output: \"pYTHON iS fUN\"\n",
    "\n"
   ]
  },
  {
   "cell_type": "code",
   "execution_count": 24,
   "id": "7133b3b5",
   "metadata": {},
   "outputs": [
    {
     "name": "stdout",
     "output_type": "stream",
     "text": [
      "Python Is Great\n"
     ]
    }
   ],
   "source": [
    "# str.title():\n",
    "# Returns a titlecased version of the string where words start with an uppercase character and the remaining characters are lowercase.\n",
    "\n",
    "text = \"python is great\"\n",
    "title_case_text = text.title()\n",
    "print(title_case_text)  # Output: \"Python Is Great\"\n"
   ]
  },
  {
   "cell_type": "code",
   "execution_count": 25,
   "id": "6970b6ef",
   "metadata": {},
   "outputs": [
    {
     "name": "stdout",
     "output_type": "stream",
     "text": [
      "00042\n"
     ]
    }
   ],
   "source": [
    "# str.zfill(width):\n",
    "# Pads the string with zeros to make it a specified width.\n",
    "\n",
    "text = \"42\"\n",
    "zfilled_text = text.zfill(5)\n",
    "print(zfilled_text)  # Output: \"00042\""
   ]
  },
  {
   "cell_type": "code",
   "execution_count": 26,
   "id": "2faac516",
   "metadata": {},
   "outputs": [
    {
     "name": "stdout",
     "output_type": "stream",
     "text": [
      "True\n"
     ]
    }
   ],
   "source": [
    "# str.isdecimal():\n",
    "# Checks if all characters in the string are decimal characters.\n",
    "\n",
    "text = \"12345\"\n",
    "is_decimal = text.isdecimal()\n",
    "print(is_decimal)  # Output: True"
   ]
  },
  {
   "cell_type": "markdown",
   "id": "a4d6b016",
   "metadata": {},
   "source": [
    "# Practice Questions"
   ]
  },
  {
   "cell_type": "code",
   "execution_count": 1,
   "id": "d0e1f852",
   "metadata": {},
   "outputs": [
    {
     "name": "stdout",
     "output_type": "stream",
     "text": [
      "sanket\n",
      "Total Number of charcter in sanket is: 6\n"
     ]
    }
   ],
   "source": [
    "# 1. Count and display the number of characters in a string.\n",
    "\n",
    "string1 = input()\n",
    "count = len(string1)\n",
    "print(\"Total Number of charcter in {} is: {}\".format(string1, count))\n"
   ]
  },
  {
   "cell_type": "code",
   "execution_count": 2,
   "id": "de26365c",
   "metadata": {},
   "outputs": [
    {
     "name": "stdout",
     "output_type": "stream",
     "text": [
      "asdfgf\n",
      "String is Not Empty\n"
     ]
    }
   ],
   "source": [
    "# 2. Check if a string is empty.\n",
    "\n",
    "string1 = input()\n",
    "count = len(string1)\n",
    "if count ==0:\n",
    "    print(\"String is Empty\")\n",
    "else:\n",
    "    print(\"String is Not Empty\")"
   ]
  },
  {
   "cell_type": "code",
   "execution_count": 6,
   "id": "ac228df1",
   "metadata": {},
   "outputs": [
    {
     "name": "stdout",
     "output_type": "stream",
     "text": [
      "Enter String: aas\n",
      "saa\n"
     ]
    }
   ],
   "source": [
    "# 3. Create a function to reverse a string.\n",
    "\n",
    "def isreverse(string1):\n",
    "    st = ''\n",
    "    for i in string1:\n",
    "        st = i+st\n",
    "    return st\n",
    "\n",
    "string1 = input(\"Enter String: \")\n",
    "print(isreverse(string1))"
   ]
  },
  {
   "cell_type": "code",
   "execution_count": 8,
   "id": "ce63b14d",
   "metadata": {},
   "outputs": [
    {
     "name": "stdout",
     "output_type": "stream",
     "text": [
      "True\n"
     ]
    }
   ],
   "source": [
    "# 4. Check if a string is a palindrome. ##Upper And Lower Are Same Here\n",
    "\n",
    "def ispalindrrome(string1):\n",
    "    st = string1.lower()\n",
    "    rev = \"\"\n",
    "    for i in string1.lower():\n",
    "        rev = i + rev\n",
    "    if rev == st:\n",
    "        print(\"True\")\n",
    "    else:\n",
    "        print(\"False\")\n",
    "        \n",
    "string1 ='mom'\n",
    "ispalindrrome(string1)"
   ]
  },
  {
   "cell_type": "code",
   "execution_count": 10,
   "id": "88a759a7",
   "metadata": {},
   "outputs": [
    {
     "name": "stdout",
     "output_type": "stream",
     "text": [
      "bcdfghjklmnpqrstvwxyz\n"
     ]
    }
   ],
   "source": [
    "# 5. Write a program to remove all vowels from a string.\n",
    "\n",
    "str1 = \"Abcdefghijklmnopqrstuvwxyz\"\n",
    "vowel = 'AEIOUaeiou'\n",
    "newstr = ''\n",
    "for i in str1:\n",
    "    if i not in vowel:\n",
    "        newstr = newstr+i\n",
    "print(newstr)\n"
   ]
  },
  {
   "cell_type": "code",
   "execution_count": 11,
   "id": "c00851a0",
   "metadata": {},
   "outputs": [
    {
     "name": "stdout",
     "output_type": "stream",
     "text": [
      "Hi there! this is honey singh\n"
     ]
    }
   ],
   "source": [
    "# 6. Capitalize the first letter of a string.\n",
    "\n",
    "stt1 = \"hi there! this is Honey singh\"\n",
    "print(stt1.capitalize())\n"
   ]
  },
  {
   "cell_type": "code",
   "execution_count": 13,
   "id": "0604af63",
   "metadata": {},
   "outputs": [
    {
     "name": "stdout",
     "output_type": "stream",
     "text": [
      "Hi-welcome-to-bangalore\n"
     ]
    }
   ],
   "source": [
    "# 7. Replace all spaces in a string with underscores\n",
    "str1 = \"Hi welcome to bangalore\"\n",
    "str2 = str1.replace(\" \",\"-\")\n",
    "print(str2)"
   ]
  },
  {
   "cell_type": "code",
   "execution_count": 18,
   "id": "140934db",
   "metadata": {},
   "outputs": [
    {
     "name": "stdout",
     "output_type": "stream",
     "text": [
      "27\n"
     ]
    }
   ],
   "source": [
    "# 8. Find the index of the first occurrence of a specific character in a string.\n",
    "\n",
    "str1 = \"Hi welcome to bangalore bro!\"\n",
    "print(str1.index('!'))"
   ]
  },
  {
   "cell_type": "code",
   "execution_count": 26,
   "id": "55283dbf",
   "metadata": {},
   "outputs": [
    {
     "name": "stdout",
     "output_type": "stream",
     "text": [
      "5\n"
     ]
    }
   ],
   "source": [
    "# 9. Count the occurrences of a specific character in a string.\n",
    "\n",
    "str1 = \"Hii welcome to Bangalore or you can say Bengaluru\"\n",
    "lenth = str1.count(\"o\")\n",
    "print(lenth)"
   ]
  },
  {
   "cell_type": "code",
   "execution_count": 28,
   "id": "ce21eff7",
   "metadata": {},
   "outputs": [
    {
     "name": "stdout",
     "output_type": "stream",
     "text": [
      "Enter Your Email: abc@gmail.con\n",
      "Invalid\n"
     ]
    }
   ],
   "source": [
    "# 10. Check if a string is a valid email address.\n",
    "str1 = input(\"Enter Your Email: \")\n",
    "if str1.endswith(\"@gmail.com\"):\n",
    "    print(\"Valid Email\")\n",
    "else:\n",
    "    print(\"Invalid\")"
   ]
  },
  {
   "cell_type": "code",
   "execution_count": null,
   "id": "d4171a58",
   "metadata": {},
   "outputs": [],
   "source": []
  }
 ],
 "metadata": {
  "kernelspec": {
   "display_name": "Python 3 (ipykernel)",
   "language": "python",
   "name": "python3"
  },
  "language_info": {
   "codemirror_mode": {
    "name": "ipython",
    "version": 3
   },
   "file_extension": ".py",
   "mimetype": "text/x-python",
   "name": "python",
   "nbconvert_exporter": "python",
   "pygments_lexer": "ipython3",
   "version": "3.11.5"
  }
 },
 "nbformat": 4,
 "nbformat_minor": 5
}
