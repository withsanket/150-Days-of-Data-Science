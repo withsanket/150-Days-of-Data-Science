{
 "cells": [
  {
   "cell_type": "markdown",
   "id": "a9e08d4b",
   "metadata": {},
   "source": [
    "# List in Python \n"
   ]
  },
  {
   "cell_type": "raw",
   "id": "e612004e",
   "metadata": {},
   "source": [
    "Definition: A list is a built-in data structure in Python used to store a collection of items. Lists are ordered and mutable, which means you can change their content.\n",
    "\n",
    "\n",
    "Creation: Lists are created by enclosing a comma-separated sequence of elements within square brackets [].\n",
    "\n",
    "\n",
    "Elements: Lists can contain elements of different data types, including numbers, strings, and even other lists.\n",
    "\n",
    "\n",
    "Indexing: Lists are zero-indexed, meaning the first element has an index of 0, the second has an index of 1, and so on.\n",
    "\n",
    "\n",
    "Slicing: You can slice lists to extract a portion of the list using the start:stop:step syntax.\n",
    "\n",
    "\n",
    "Mutable: Lists are mutable, which means you can change their elements by assigning new values to specific indices.\n",
    "\n",
    "\n",
    "Methods: Lists have built-in methods, such as append(), extend(), insert(), remove(), pop(), and sort() for various operations.\n",
    "\n",
    "\n",
    "Length: You can find the number of elements in a list using the len() function.\n",
    "\n",
    "\n",
    "Concatenation: You can concatenate two lists using the + operator.\n",
    "\n",
    "\n",
    "Iteration: You can iterate through a list using loops like for and list comprehensions.\n",
    "\n",
    "\n",
    "Membership Testing: You can check if an element is present in a list using the in operator.\n",
    "\n",
    "\n",
    "List Comprehensions: List comprehensions provide a concise way to create new lists based on existing lists.\n",
    "\n",
    "\n",
    "Copying Lists: Be careful when copying lists. Using copy() or slicing can create shallow copies. For deep copies, you may need to use the copy module or list comprehension.\n",
    "\n",
    "\n",
    "Sorting: You can sort a list using the sort() method, which sorts the list in-place, or the sorted() function, which returns a new sorted list.\n",
    "\n",
    "\n",
    "Nesting: Lists can be nested within other lists to create multi-dimensional data structures.\n",
    "\n",
    "\n",
    "Common Operations: Lists are commonly used for tasks such as data storage, manipulation, and processing.\n",
    "\n",
    "\n",
    "List is a Sequence: Lists are a type of sequence, which means they support various sequence operations like indexing, slicing, and iteration.\n",
    "\n",
    "\n",
    "List Mutability: Lists are mutable, meaning you can change their contents by assignment and using list methods.\n",
    "\n",
    "\n",
    "List Elements: Elements in a list are ordered, meaning they maintain their order, and you can access them by their position.\n",
    "\n",
    "\n",
    "List Aliasing: Be cautious about aliasing, where multiple variables reference the same list. Changes through one variable affect all aliases."
   ]
  },
  {
   "cell_type": "code",
   "execution_count": 2,
   "id": "c1b31473",
   "metadata": {},
   "outputs": [
    {
     "name": "stdout",
     "output_type": "stream",
     "text": [
      "[1, 1.5, 'Abc', [1, 'Sanket']]\n",
      "1\n",
      "1\n"
     ]
    }
   ],
   "source": [
    "# Creating list: \n",
    "\n",
    "list1 = [1, 1.5, 'Abc', [1, \"Sanket\"]]\n",
    "\n",
    "print(list1)\n",
    "print(list1[0])\n",
    "print(list1[3][0]) # way to access nested loop.\n",
    "\n",
    "\n",
    "# #creating by user input\n",
    "\n",
    "# # Initialize an empty list\n",
    "# user_input_list = []\n",
    "\n",
    "# # Get the number of elements the user wants to input\n",
    "# num_elements = int(input(\"Enter the number of elements you want to input: \"))\n",
    "\n",
    "# # Use a for loop to get user input and append it to the list\n",
    "# for i in range(num_elements):\n",
    "#     user_input = input(f\"Enter element {i + 1}: \")\n",
    "#     user_input_list.append(user_input)\n",
    "\n",
    "# # Print the list\n",
    "# print(\"User input list:\", user_input_list)"
   ]
  },
  {
   "cell_type": "markdown",
   "id": "ebde388c",
   "metadata": {},
   "source": [
    "# Practice \n"
   ]
  },
  {
   "cell_type": "code",
   "execution_count": 19,
   "id": "1f9d9900",
   "metadata": {},
   "outputs": [
    {
     "name": "stdout",
     "output_type": "stream",
     "text": [
      "['Banana', 'Mango', 'Papaya']\n",
      "['Banana', 'Mango', 'Papaya', 'Apple']\n",
      "['Banana', 'Papaya']\n",
      "Banana\n",
      "2\n",
      "True\n",
      "False\n"
     ]
    }
   ],
   "source": [
    "# Create a list containing the names of three of your favorite fruits.\n",
    "\n",
    "fruits = ['Banana', 'Mango', \"Papaya\"]\n",
    "print(fruits)                            #['Banana', 'Mango', 'Papaya']\n",
    "\n",
    "\n",
    "\n",
    "# Add a new fruit to the list.\n",
    "\n",
    "fruits.append(\"Apple\")                   #['Banana', 'Mango', 'Papaya', 'Apple']\n",
    "print(fruits)\n",
    "\n",
    "\n",
    "\n",
    "\n",
    "# Remove one of the fruits from the list\n",
    "\n",
    "fruits.pop()             #------> Last element will be Poped.\n",
    "fruits.remove('Mango')   #------> Simply remove Mango from list.\n",
    "print(fruits)\n",
    "\n",
    "\n",
    "\n",
    "# Access and print the first fruit in the list.\n",
    "print(fruits[0])\n",
    "\n",
    "\n",
    "\n",
    "# Find the length of the list.\n",
    "print(len(fruits))\n",
    "\n",
    "\n",
    "# Check if a specific fruit is in the list.\n",
    "if 'Banana' in fruits:\n",
    "    print(\"True\")\n",
    "    \n",
    "#Another method to check \n",
    "print('Mango' in fruits)\n",
    "\n"
   ]
  },
  {
   "cell_type": "code",
   "execution_count": 8,
   "id": "f0763746",
   "metadata": {},
   "outputs": [
    {
     "name": "stdout",
     "output_type": "stream",
     "text": [
      "Enter the number of elements you want to input: 3\n",
      "Enter element 1: 1\n",
      "Enter element 2: 2\n",
      "Enter element 3: 3\n",
      "6\n"
     ]
    }
   ],
   "source": [
    "# Write a Python program to calculate the sum of all elements in a list.\n",
    "\n",
    "num = []\n",
    "num_elements = int(input(\"Enter the number of elements you want to input: \"))\n",
    "\n",
    "for i in range(num_elements):\n",
    "    user_input = eval(input(f\"Enter element {i + 1}: \"))\n",
    "    num.append(user_input)\n",
    "    \n",
    "sum = 0\n",
    "for j in range(num_elements):\n",
    "    sum = sum + num[j]\n",
    "print(sum)\n",
    "\n"
   ]
  },
  {
   "cell_type": "code",
   "execution_count": 14,
   "id": "e506685b",
   "metadata": {},
   "outputs": [
    {
     "name": "stdout",
     "output_type": "stream",
     "text": [
      "Enter the number of element you want to input2\n",
      "Enter Element 1:1\n",
      "Enter Element 2:2\n",
      "[1, 2]\n",
      "After Reverseing List:\n",
      "[2, 1]\n"
     ]
    }
   ],
   "source": [
    "# Write a function that reverses a given list. For example, if the input is [1, 2, 3, 4], the output should be [4, 3, 2, 1]\n",
    "\n",
    "num = []\n",
    "elementsize = int(input(\"Enter the number of element you want to input\"))\n",
    "for i in range(elementsize):\n",
    "    userinput = eval(input(\"Enter Element {}:\".format(i+1)))\n",
    "    num.append(userinput)\n",
    "print(num)\n",
    "num.reverse()\n",
    "print(\"After Reverseing List:\")\n",
    "print(num)"
   ]
  },
  {
   "cell_type": "code",
   "execution_count": 19,
   "id": "bcca7c64",
   "metadata": {},
   "outputs": [
    {
     "name": "stdout",
     "output_type": "stream",
     "text": [
      "No of Elements in List: 10\n",
      "Enter 1 Element: 2\n",
      "Enter 2 Element: 1\n",
      "Enter 3 Element: 2\n",
      "Enter 4 Element: 2\n",
      "Enter 5 Element: 2\n",
      "Enter 6 Element: 3\n",
      "Enter 7 Element: 4\n",
      "Enter 8 Element: 5\n",
      "Enter 9 Element: 1\n",
      "Enter 10 Element: 2\n",
      "Even list:  [2, 2, 2, 2, 4, 2]\n"
     ]
    }
   ],
   "source": [
    "# Write a Python program to find all even numbers in a list and store them in a new list.\n",
    "\n",
    "list1 = []\n",
    "list2 = []\n",
    "num = int(input(\"No of Elements in List: \"))\n",
    "\n",
    "for i in range(num):\n",
    "    li = int(input(\"Enter {} Element: \".format(i+1)))\n",
    "    list1.append(li)\n",
    "for i in list1:\n",
    "    if i%2 == 0:\n",
    "        list2.append(i)\n",
    "print(\"Even list: \",list2)"
   ]
  },
  {
   "cell_type": "code",
   "execution_count": 3,
   "id": "473477f4",
   "metadata": {},
   "outputs": [
    {
     "name": "stdout",
     "output_type": "stream",
     "text": [
      "[1, 2, 3, 4, 5, 6, 7, 8, 9, 10]\n",
      "[1, 4, 9, 16, 25, 36, 49, 64, 81, 100]\n",
      "[1, 3, 5, 7, 9]\n"
     ]
    }
   ],
   "source": [
    "# Write a Python program to create a list of squares of numbers from 1 to 10 using list comprehension.\n",
    "\n",
    "list1 = list(range(1,11))\n",
    "list2 = [x**2 for x in list1]\n",
    "print(\"List:\",list1)\n",
    "print(\"Square of List:\",list2)\n",
    "odd_list = [x for x in list1 if x %2!=0]\n",
    "print(odd_list)\n"
   ]
  },
  {
   "cell_type": "code",
   "execution_count": 7,
   "id": "0de1b42a",
   "metadata": {},
   "outputs": [
    {
     "name": "stdout",
     "output_type": "stream",
     "text": [
      "Enter No of list element: 5\n",
      "Enter 1 Element: 1\n",
      "Enter 2 Element: 2\n",
      "Enter 3 Element: 3\n",
      "Enter 4 Element: 1\n",
      "Enter 5 Element: 2\n",
      "[1, 2, 3, 1, 2]\n",
      "[1, 2, 3]\n"
     ]
    }
   ],
   "source": [
    "# Write a function that removes duplicate elements from a list and returns a new list with unique elements.\n",
    "li = []\n",
    "\n",
    "n = int(input(\"Enter No of list element: \"))\n",
    "\n",
    "for i in range (n):\n",
    "    a = int(input(\"Enter {} Element: \".format(i+1)))\n",
    "    li.append(a)\n",
    "print(li)\n",
    "li2 = list(set(li))\n",
    "print(li2)"
   ]
  },
  {
   "cell_type": "code",
   "execution_count": 9,
   "id": "add2320e",
   "metadata": {},
   "outputs": [
    {
     "name": "stdout",
     "output_type": "stream",
     "text": [
      "[5, 6, 7, 8, 9, 10]\n"
     ]
    }
   ],
   "source": [
    "# Write a function that finds the intersection of two lists, \n",
    "# meaning it returns a list containing elements that are present in both input lists.\n",
    "\n",
    "li1 = [1,2,3,4,5,6,7,8,9,10]\n",
    "li2 = [5,6,7,8,9,10,11,12,13,14,15]\n",
    "\n",
    "li3 = list(set(li1).intersection(set(li2)))\n",
    "print(li3)"
   ]
  },
  {
   "cell_type": "code",
   "execution_count": 10,
   "id": "1a420c1a",
   "metadata": {},
   "outputs": [
    {
     "name": "stdout",
     "output_type": "stream",
     "text": [
      "1 occurr: 3 Times.\n"
     ]
    }
   ],
   "source": [
    "# Write a function that counts the number of occurrences of a specific element in a list.\n",
    "\n",
    "li1 = [1,1,2,2,3,4,3,2,1,5,4,6,7,8]\n",
    "count = li1.count(1)\n",
    "print(\"1 occurr: {} Times.\".format(count))"
   ]
  },
  {
   "cell_type": "code",
   "execution_count": 11,
   "id": "0ab76b29",
   "metadata": {},
   "outputs": [
    {
     "name": "stdout",
     "output_type": "stream",
     "text": [
      "[2, 2, 2, 2, 2, 4, 4, 4, 5, 6, 7, 8, 8, 9, 22, 33, 77]\n"
     ]
    }
   ],
   "source": [
    "# Write a program that sorts a list of strings in ascending order. \n",
    "# You can use the sort() method or the sorted() function.\n",
    "\n",
    "li1 = [2,4,2,6,5,2,7,2,8,33,77,22,4,2,4,8,9]\n",
    "li1.sort()\n",
    "print(li1)"
   ]
  },
  {
   "cell_type": "code",
   "execution_count": 14,
   "id": "d37f3b60",
   "metadata": {},
   "outputs": [
    {
     "name": "stdout",
     "output_type": "stream",
     "text": [
      "Palindrome\n"
     ]
    }
   ],
   "source": [
    "# Write a function that checks if a given list is a palindrome. \n",
    "# A palindrome is a list that reads the same forwards and backward.\n",
    "\n",
    "li = [1,2,3,2,1]\n",
    "li1 = li[::-1]\n",
    "if li1 == li:\n",
    "    print(\"Palindrome\")\n",
    "else:\n",
    "    print(\"Not Palindrome\")"
   ]
  },
  {
   "cell_type": "code",
   "execution_count": 15,
   "id": "88da109f",
   "metadata": {},
   "outputs": [
    {
     "name": "stdout",
     "output_type": "stream",
     "text": [
      "[77, 2, 3, 4, 5, 3, 1, 1]\n"
     ]
    }
   ],
   "source": [
    "# Write a program that swaps the first and last elements of a list.\n",
    "li = [1,2,3,4,5,3,1,77]\n",
    "li1 = li[0]\n",
    "li[0] = li[-1]\n",
    "li[-1] = li1\n",
    "print(li)"
   ]
  },
  {
   "cell_type": "code",
   "execution_count": 18,
   "id": "110017c1",
   "metadata": {},
   "outputs": [
    {
     "name": "stdout",
     "output_type": "stream",
     "text": [
      "99\n",
      "0\n"
     ]
    }
   ],
   "source": [
    "# Find the maximum and minimum values in a list of numbers.\n",
    "li = [1,2,3,4,5,6,7,1,2,3,99,0]\n",
    "print(max(li))\n",
    "print(min(li))"
   ]
  },
  {
   "cell_type": "code",
   "execution_count": 28,
   "id": "2469751c",
   "metadata": {},
   "outputs": [
    {
     "name": "stdout",
     "output_type": "stream",
     "text": [
      "[1, 2, 3, 4, 5, 6, 7, 8, 9, 10]\n",
      "[2, 4, 6, 8, 10]\n"
     ]
    }
   ],
   "source": [
    "# Create a list of numbers from 1 to 10 using a list comprehension.\n",
    "\n",
    "li = list([x for x in range(1,11)])\n",
    "print(li)\n",
    "\n",
    "# Create a new list that contains only the even numbers from the above list\n",
    "even_list = list([x for x in li if x%2==0])\n",
    "print(even_list)"
   ]
  },
  {
   "cell_type": "code",
   "execution_count": 35,
   "id": "d6bda958",
   "metadata": {},
   "outputs": [
    {
     "name": "stdout",
     "output_type": "stream",
     "text": [
      "List 1: [1, 2, 3, 4, 5, 6, 7, 8, 9, 10]\n",
      "List 2: [6, 7, 8, 9, 10, 11, 12, 13, 14, 15]\n",
      "merge List With Duplicate: [1, 2, 3, 4, 5, 6, 7, 8, 9, 10, 6, 7, 8, 9, 10, 11, 12, 13, 14, 15]\n",
      "Merge List Without Duplicate: [1, 2, 3, 4, 5, 6, 7, 8, 9, 10, 11, 12, 13, 14, 15]\n"
     ]
    }
   ],
   "source": [
    "# Given two lists, merge them into a single list without any duplicate elements.\n",
    "\n",
    "li1 = list([x for x in range(1,11)])\n",
    "li2 = list([x for x in range(6,16)])\n",
    "print(\"List 1:\",li1)\n",
    "print(\"List 2:\",li2)\n",
    "print(\"merge List With Duplicate:\",li1+li2)\n",
    "li3 = list(set(li1+li2))\n",
    "print(\"Merge List Without Duplicate:\",li3)\n"
   ]
  },
  {
   "cell_type": "code",
   "execution_count": 38,
   "id": "05b97da4",
   "metadata": {},
   "outputs": [
    {
     "name": "stdout",
     "output_type": "stream",
     "text": [
      "[14, 13, 12, 11, 10, 9, 8, 7, 6, 5, 4, 3, 2, 1, 0]\n"
     ]
    }
   ],
   "source": [
    "# Reverse the order of the elements in a list without using the reverse() method.\n",
    "\n",
    "li1 = list([x for x in range(15)])\n",
    "li2 = li1[::-1]\n",
    "print(li2)"
   ]
  },
  {
   "cell_type": "code",
   "execution_count": null,
   "id": "b6b3494f",
   "metadata": {},
   "outputs": [],
   "source": [
    "# Create a list of lists to represent a 2D matrix and transpose it.\n",
    "\n"
   ]
  }
 ],
 "metadata": {
  "kernelspec": {
   "display_name": "Python 3 (ipykernel)",
   "language": "python",
   "name": "python3"
  },
  "language_info": {
   "codemirror_mode": {
    "name": "ipython",
    "version": 3
   },
   "file_extension": ".py",
   "mimetype": "text/x-python",
   "name": "python",
   "nbconvert_exporter": "python",
   "pygments_lexer": "ipython3",
   "version": "3.11.5"
  }
 },
 "nbformat": 4,
 "nbformat_minor": 5
}
