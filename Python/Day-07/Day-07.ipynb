{
 "cells": [
  {
   "cell_type": "markdown",
   "id": "eb54297d",
   "metadata": {},
   "source": [
    "# Looping Statement"
   ]
  },
  {
   "cell_type": "raw",
   "id": "5bda9b99",
   "metadata": {},
   "source": [
    "The program statement are executed sequentially one after another. In some situations, a block of code need of times.\n",
    "\n",
    "These are repetitive program codes, the computers have to perform to complete task.\n",
    "\n",
    "The following are the loop structures available in Python.\n",
    "1. While Loop Statement\n",
    "2. For Loop Statement"
   ]
  },
  {
   "cell_type": "raw",
   "id": "3cecbfca",
   "metadata": {},
   "source": [
    "While Loop: While loop statement in python programming language repeatedly executes a target statement as long as a given conditition is true.\n",
    "\n",
    "syntax:\n",
    "\n",
    "while expression:\n",
    "    statement...\n",
    "    ...........\n",
    "    ...........\n",
    "\n",
    "while loop falls under the category of infinte iteration.\n",
    "infinite iteration means that the number of times the loop is executes isn't specified in advance. \n"
   ]
  },
  {
   "cell_type": "raw",
   "id": "8f625276",
   "metadata": {},
   "source": [
    "For Loop: Python for loop is used for sequential traversal. i.e, it is used for iterating over and iterable like string, tuple, list, set, or dictionary.\n",
    "\n",
    "syntax:\n",
    "for variable in iterable:\n",
    "    statement ......\n",
    "    body of for loop....\n",
    "    ............\n",
    "    ........"
   ]
  },
  {
   "cell_type": "markdown",
   "id": "a02555b4",
   "metadata": {},
   "source": [
    "# Practice"
   ]
  },
  {
   "cell_type": "code",
   "execution_count": 2,
   "id": "29884919",
   "metadata": {},
   "outputs": [
    {
     "name": "stdout",
     "output_type": "stream",
     "text": [
      "1 2 3 4 5 6 7 8 9 10 11 12 13 14 15 16 17 18 19 20 21 22 23 24 25 26 27 28 29 30 31 32 33 34 35 36 37 38 39 40 41 42 43 44 45 46 47 48 49 50 51 52 53 54 55 56 57 58 59 60 61 62 63 64 65 66 67 68 69 70 71 72 73 74 75 76 77 78 79 80 81 82 83 84 85 86 87 88 89 90 91 92 93 94 95 96 97 98 99 100 "
     ]
    }
   ],
   "source": [
    "# 1. Print Numbers in a Range: Write a program that prints all the numbers from 1 to 100.\n",
    "\n",
    "for i in range(1,101):\n",
    "    print(i, end =\" \")\n",
    "\n",
    "\n"
   ]
  },
  {
   "cell_type": "code",
   "execution_count": 3,
   "id": "fefc6ef6",
   "metadata": {},
   "outputs": [
    {
     "name": "stdout",
     "output_type": "stream",
     "text": [
      "Sum of all Even Number from 1 to 100.: 2550\n"
     ]
    }
   ],
   "source": [
    "# Sum of Even Numbers: Calculate the sum of all even numbers from 1 to 100.\n",
    "sum = 0\n",
    "for i in range(1,101):\n",
    "    if i%2==0:\n",
    "        sum = sum+i\n",
    "print(\"Sum of all Even Number from 1 to 100.:\",sum)\n"
   ]
  },
  {
   "cell_type": "code",
   "execution_count": 6,
   "id": "b0ffebab",
   "metadata": {},
   "outputs": [
    {
     "name": "stdout",
     "output_type": "stream",
     "text": [
      "Enter Number: 5\n",
      "5 * 1 = 5\n",
      "5 * 2 = 10\n",
      "5 * 3 = 15\n",
      "5 * 4 = 20\n",
      "5 * 5 = 25\n",
      "5 * 6 = 30\n",
      "5 * 7 = 35\n",
      "5 * 8 = 40\n",
      "5 * 9 = 45\n",
      "5 * 10 = 50\n"
     ]
    }
   ],
   "source": [
    "# Multiplication Table: Create a program that prints the multiplication table for a given number. \n",
    "# For example, if the user inputs 7, your program should print the 7 times table.\n",
    "\n",
    "num = int(input(\"Enter Number: \"))\n",
    "for i in range(1,11):\n",
    "    print(f\"{num} * {i} = {num*i}\")\n"
   ]
  },
  {
   "cell_type": "code",
   "execution_count": 8,
   "id": "c2faefef",
   "metadata": {},
   "outputs": [
    {
     "name": "stdout",
     "output_type": "stream",
     "text": [
      "Enter Number: 54\n",
      "Factorial of 54: 230843697339241380472092742683027581083278564571807941132288000000000000\n"
     ]
    }
   ],
   "source": [
    "# Factorial Calculation: Write a program to calculate the factorial of a number. \n",
    "# The factorial of a non-negative integer n is the product of all positive integers less than or equal to n.\n",
    "\n",
    "\n",
    "num = int(input(\"Enter Number: \"))\n",
    "fact = 1\n",
    "for i in range(1,num+1):\n",
    "    if num<0:\n",
    "        print(\"No Negative Number:\")\n",
    "        break\n",
    "    elif num == 0:\n",
    "        fact = 1\n",
    "        break\n",
    "    else:\n",
    "        fact = fact*i\n",
    "print(\"Factorial of {}: {}\".format(num,fact))"
   ]
  },
  {
   "cell_type": "code",
   "execution_count": 12,
   "id": "77a0275f",
   "metadata": {},
   "outputs": [
    {
     "name": "stdout",
     "output_type": "stream",
     "text": [
      "Guess The number: 50\n",
      "Enter Lower Number: 40\n",
      "Enter Higher Number: 4\n",
      "Enter Higher Number: 45\n",
      "Enter Lower Number: 44\n",
      "You Done It. In 5 Attempt..!\n"
     ]
    }
   ],
   "source": [
    "# Guess the Number: Create a guessing game where the computer selects a random number, and the user has to guess it. \n",
    "# Provide hints (higher/lower) until the user guesses correctly.\n",
    "import random\n",
    "secret = random.randint(1, 100)\n",
    "user = int(input(\"Guess The number: \"))\n",
    "count = 0\n",
    "# print(secret)\n",
    "while(1):\n",
    "    count = count + 1\n",
    "    if user == secret:\n",
    "        print(\"You Done It. In {} Attempt..!\".format(count))\n",
    "        break\n",
    "    elif user<secret:\n",
    "        print(\"Enter Higher Number:\",end=\" \")\n",
    "        user = int(input())\n",
    "    else:\n",
    "        print(\"Enter Lower Number:\",end=\" \")\n",
    "        user = int(input())\n"
   ]
  },
  {
   "cell_type": "code",
   "execution_count": 11,
   "id": "0d98cc33",
   "metadata": {},
   "outputs": [
    {
     "name": "stdout",
     "output_type": "stream",
     "text": [
      "Enter Terms: 10\n",
      "0 1 1 2 3 5 8 13 21 34 55 "
     ]
    }
   ],
   "source": [
    "# Fibonacci Sequence: Generate the first n terms of the Fibonacci sequence, \n",
    "# where each term is the sum of the two preceding ones.\n",
    "\n",
    "fib = 0\n",
    "fib1 = 1\n",
    "nn = 0\n",
    "term = int(input(\"Enter Terms: \"))\n",
    "for i in range(term):\n",
    "    if i==1:\n",
    "        print(\"1\",end=\" \")\n",
    "    print(nn, end = \" \")\n",
    "    nn = fib + fib1\n",
    "    fib = fib1\n",
    "    fib1 = nn\n",
    "\n",
    "\n"
   ]
  },
  {
   "cell_type": "code",
   "execution_count": null,
   "id": "7e9c0704",
   "metadata": {},
   "outputs": [],
   "source": []
  }
 ],
 "metadata": {
  "kernelspec": {
   "display_name": "Python 3 (ipykernel)",
   "language": "python",
   "name": "python3"
  },
  "language_info": {
   "codemirror_mode": {
    "name": "ipython",
    "version": 3
   },
   "file_extension": ".py",
   "mimetype": "text/x-python",
   "name": "python",
   "nbconvert_exporter": "python",
   "pygments_lexer": "ipython3",
   "version": "3.11.5"
  }
 },
 "nbformat": 4,
 "nbformat_minor": 5
}
