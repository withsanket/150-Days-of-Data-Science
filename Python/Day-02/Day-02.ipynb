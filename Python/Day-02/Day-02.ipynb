{
 "cells": [
  {
   "cell_type": "markdown",
   "id": "a69d39c2",
   "metadata": {},
   "source": [
    "# Data Type and Variable"
   ]
  },
  {
   "cell_type": "markdown",
   "id": "e88f0276",
   "metadata": {},
   "source": [
    "# Data Type"
   ]
  },
  {
   "cell_type": "raw",
   "id": "ed486520",
   "metadata": {},
   "source": [
    "Date Type: Data types are the classification or categorization of data items. It represents the kind of value that tells what operations can be performed on a particular data.\n",
    "\n",
    "Different Types of Data Type in Python\n",
    "Numeric: int, float, complex\n",
    "Sequence Type: String (str)\n",
    "Boolean: True, False\n",
    "Set: \n",
    "Dictionary: \n",
    "Binary Types: \n",
    "\n",
    "type() is a in-build function which return type of variable:\n"
   ]
  },
  {
   "cell_type": "code",
   "execution_count": null,
   "id": "80bc846a",
   "metadata": {},
   "outputs": [],
   "source": [
    "# DataType Output: str\n",
    "x = \"Hello World\"\n",
    " \n",
    "# DataType Output: int\n",
    "x = 50\n",
    " \n",
    "# DataType Output: float\n",
    "x = 60.5\n",
    " \n",
    "# DataType Output: complex\n",
    "x = 3j\n",
    " \n",
    "# DataType Output: list\n",
    "x = [\"geeks\", \"for\", \"geeks\"]\n",
    " \n",
    "# DataType Output: tuple\n",
    "x = (\"geeks\", \"for\", \"geeks\")\n",
    " \n",
    "# DataType Output: range\n",
    "x = range(10) \n",
    " \n",
    "# DataType Output: dict\n",
    "x = {\"name\": \"Suraj\", \"age\": 24}\n",
    " \n",
    "# DataType Output: set\n",
    "x = {\"geeks\", \"for\", \"geeks\"}\n",
    " \n",
    "# DataType Output: frozenset\n",
    "x = frozenset({\"geeks\", \"for\", \"geeks\"})\n",
    " \n",
    "# DataType Output: bool\n",
    "x = True\n",
    " \n",
    "# DataType Output: bytes\n",
    "x = b\"Geeks\"\n",
    " \n",
    "# DataType Output: bytearray\n",
    "x = bytearray(4)\n",
    " \n",
    "# DataType Output: memoryview\n",
    "x = memoryview(bytes(6))\n",
    " \n",
    "# DataType Output: NoneType\n",
    "x = None"
   ]
  },
  {
   "cell_type": "markdown",
   "id": "9acd4b5b",
   "metadata": {},
   "source": [
    "# Variable"
   ]
  },
  {
   "cell_type": "raw",
   "id": "19d58422",
   "metadata": {},
   "source": [
    "Varible: Varible is like a container which store value.\n",
    "\n",
    "Rule For Defining Varible Name:\n",
    "    \n",
    "A variable name must start with a letter or the underscore character.\n",
    "A variable name cannot start with a number.\n",
    "A variable name can only contain alpha-numeric characters and underscores (A-z, 0-9, and _ )\n",
    "Variable names are case-sensitive (age, Age and AGE are three different variables)\n"
   ]
  },
  {
   "cell_type": "code",
   "execution_count": null,
   "id": "4ce36441",
   "metadata": {},
   "outputs": [],
   "source": [
    "#Example \n",
    "\n",
    "# var = 10 \n",
    "# var_12 = 12\n",
    "# Var_12 = 12\n",
    "# Var123 = 123\n",
    "# 12var = 5   #throw an Error\n",
    "# full name = 'Sanket Kumar'   # space between varible is not valid you can use underscore instant of space\n"
   ]
  },
  {
   "cell_type": "markdown",
   "id": "4be810ab",
   "metadata": {},
   "source": [
    "# Operators In Python"
   ]
  },
  {
   "cell_type": "raw",
   "id": "9a21287e",
   "metadata": {},
   "source": [
    "Operators in general are used to perform operations on values and variables. These are standard symbols used for the purpose of logical and arithmetic operations. In this article, we will look into different types of Python operators. \n",
    "\n",
    "OPERATORS: These are the special symbols. Eg- + , * , /, etc.\n",
    "OPERAND: It is the value on which the operator is applied.\n",
    "\n",
    "\n",
    "Types of Operators in Python\n",
    "\n",
    "1. Arithmetic Operators\n",
    "2. Comparison Operators\n",
    "3. Logical Operators\n",
    "4. Bitwise Operators\n",
    "5. Assignment Operators\n",
    "6. Identity Operators \n",
    "7. Membership Operators"
   ]
  },
  {
   "cell_type": "raw",
   "id": "1be67ab2",
   "metadata": {},
   "source": [
    "1. Arithmetic Operator\n",
    "\n",
    "Arithmetic operators are used to perform basic mathematical operations like addition, subtraction, multiplication, and division.\n",
    "\n",
    "Different Type of Arithmetic Operators\n",
    "\n",
    "+ --> For Addition\n",
    "- --> For Subtraction\n",
    "* --> For Multiplication\n",
    "/ --> For Division \n",
    "// --> For Floor Division\n",
    "% --> Modulo Division \n",
    "** --> For Square "
   ]
  },
  {
   "cell_type": "code",
   "execution_count": 1,
   "id": "35bb5318",
   "metadata": {},
   "outputs": [
    {
     "name": "stdout",
     "output_type": "stream",
     "text": [
      "13\n",
      "5\n",
      "36\n",
      "1\n",
      "6561\n"
     ]
    }
   ],
   "source": [
    "# Examples of Arithmetic Operator\n",
    "a = 9\n",
    "b = 4\n",
    " \n",
    "# Addition of numbers\n",
    "add = a + b\n",
    " \n",
    "# Subtraction of numbers\n",
    "sub = a - b\n",
    " \n",
    "# Multiplication of number\n",
    "mul = a * b\n",
    " \n",
    "# Modulo of both number\n",
    "mod = a % b\n",
    " \n",
    "# Power\n",
    "p = a ** b\n",
    " \n",
    "# print results\n",
    "print(add)\n",
    "print(sub)\n",
    "print(mul)\n",
    "print(mod)\n",
    "print(p)"
   ]
  },
  {
   "cell_type": "raw",
   "id": "54a0c0d6",
   "metadata": {},
   "source": [
    "2. Comparison Operators\n",
    "\n",
    "Relational operators are used for comparing the values. It either returns True or False according to the condition. These operators are also known as Comparison Operators.\n",
    "\n",
    "\n",
    "Different Type of Comparison Operators\n",
    "\n",
    "    > Greater than: True if the left operand is greater than the right\tx > y\n",
    "\n",
    "    < Less than: True if the left operand is less than the right\tx < y\n",
    "\n",
    "    == Equal to: True if both operands are equal\tx == y\n",
    "\n",
    "    != Not equal to – True if operands are not equal\tx != y\n",
    "    \n",
    "    >= Greater than or equal to: True if left operand is greater than or equal to the right\tx >= y\n",
    "\n",
    "    <= Less than or equal to: True if left operand is less than or equal to the right\tx <= y\n"
   ]
  },
  {
   "cell_type": "code",
   "execution_count": 2,
   "id": "63ae7dff",
   "metadata": {},
   "outputs": [
    {
     "name": "stdout",
     "output_type": "stream",
     "text": [
      "True\n"
     ]
    }
   ],
   "source": [
    "a = 9\n",
    "b = 5\n",
    "  \n",
    "# Output \n",
    "print(a > b)"
   ]
  },
  {
   "cell_type": "code",
   "execution_count": 3,
   "id": "13a6f418",
   "metadata": {},
   "outputs": [
    {
     "name": "stdout",
     "output_type": "stream",
     "text": [
      "False\n"
     ]
    }
   ],
   "source": [
    "a = 9\n",
    "b = 5\n",
    "  \n",
    "# Output \n",
    "print(a < b)"
   ]
  },
  {
   "cell_type": "code",
   "execution_count": 4,
   "id": "4b367d1f",
   "metadata": {},
   "outputs": [
    {
     "name": "stdout",
     "output_type": "stream",
     "text": [
      "False\n"
     ]
    }
   ],
   "source": [
    "a = 9\n",
    "b = 5\n",
    "  \n",
    "# Output \n",
    "print(a == b)"
   ]
  },
  {
   "cell_type": "code",
   "execution_count": 5,
   "id": "3973052e",
   "metadata": {},
   "outputs": [
    {
     "name": "stdout",
     "output_type": "stream",
     "text": [
      "True\n"
     ]
    }
   ],
   "source": [
    "a = 9\n",
    "b = 5\n",
    "  \n",
    "# Output \n",
    "print(a != b)"
   ]
  },
  {
   "cell_type": "code",
   "execution_count": 6,
   "id": "d9dd989d",
   "metadata": {},
   "outputs": [
    {
     "name": "stdout",
     "output_type": "stream",
     "text": [
      "True\n"
     ]
    }
   ],
   "source": [
    "a = 9\n",
    "b = 5\n",
    "  \n",
    "# Output \n",
    "print(a >= b)"
   ]
  },
  {
   "cell_type": "code",
   "execution_count": 7,
   "id": "1969f5cc",
   "metadata": {},
   "outputs": [
    {
     "name": "stdout",
     "output_type": "stream",
     "text": [
      "False\n"
     ]
    }
   ],
   "source": [
    "a = 9\n",
    "b = 5\n",
    "  \n",
    "# Output \n",
    "print(a <= b)"
   ]
  },
  {
   "cell_type": "raw",
   "id": "c8c03087",
   "metadata": {},
   "source": [
    "3. Logical Operators\n",
    "\n",
    "Operators are used to perform operations on values and variables. These are the special symbols that carry out arithmetic and logical computations. The value the operator operates on is known as Operand.\n",
    "\n",
    "Different Type of Logical Operators\n",
    "    and\tLogical AND: True if both the operands are true\tx and y\n",
    "    or\tLogical OR: True if either of the operands is true\tx or y\n",
    "    not\tLogical NOT: True if operand is false\tnot x\n",
    "\n"
   ]
  },
  {
   "cell_type": "code",
   "execution_count": 8,
   "id": "440a4d48",
   "metadata": {},
   "outputs": [
    {
     "name": "stdout",
     "output_type": "stream",
     "text": [
      "The numbers are greater than 0\n",
      "Atleast one number is not greater than 0\n"
     ]
    }
   ],
   "source": [
    "# logical and operator  \n",
    "  \n",
    "a = 10\n",
    "b = 10\n",
    "c = -10\n",
    "  \n",
    "if a > 0 and b > 0:  \n",
    "    print(\"The numbers are greater than 0\")  \n",
    "  \n",
    "if a > 0 and b > 0 and c > 0:  \n",
    "    print(\"The numbers are greater than 0\")  \n",
    "else:  \n",
    "    print(\"Atleast one number is not greater than 0\") "
   ]
  },
  {
   "cell_type": "code",
   "execution_count": 9,
   "id": "f4ecefc2",
   "metadata": {},
   "outputs": [
    {
     "name": "stdout",
     "output_type": "stream",
     "text": [
      "Atleast one number has boolean value as False\n"
     ]
    }
   ],
   "source": [
    "# logical and operator  \n",
    "  \n",
    "a = 10\n",
    "b = 12\n",
    "c = 0\n",
    "  \n",
    "if a and b and c:  \n",
    "    print(\"All the numbers have boolean value as True\")  \n",
    "else:  \n",
    "    print(\"Atleast one number has boolean value as False\") "
   ]
  },
  {
   "cell_type": "code",
   "execution_count": 10,
   "id": "e9406cb6",
   "metadata": {},
   "outputs": [
    {
     "name": "stdout",
     "output_type": "stream",
     "text": [
      "10 is divisible by either 3 or 5\n"
     ]
    }
   ],
   "source": [
    "# logical not operator  \n",
    "  \n",
    "a = 10\n",
    "  \n",
    "if not a:  \n",
    "    print(\"Boolean value of a is True\")  \n",
    "  \n",
    "if not (a%3 == 0 or a%5 == 0):  \n",
    "    print(\"10 is not divisible by either 3 or 5\")  \n",
    "else:  \n",
    "    print(\"10 is divisible by either 3 or 5\") "
   ]
  },
  {
   "cell_type": "code",
   "execution_count": null,
   "id": "609934ab",
   "metadata": {},
   "outputs": [],
   "source": []
  }
 ],
 "metadata": {
  "kernelspec": {
   "display_name": "Python 3 (ipykernel)",
   "language": "python",
   "name": "python3"
  },
  "language_info": {
   "codemirror_mode": {
    "name": "ipython",
    "version": 3
   },
   "file_extension": ".py",
   "mimetype": "text/x-python",
   "name": "python",
   "nbconvert_exporter": "python",
   "pygments_lexer": "ipython3",
   "version": "3.11.5"
  }
 },
 "nbformat": 4,
 "nbformat_minor": 5
}
