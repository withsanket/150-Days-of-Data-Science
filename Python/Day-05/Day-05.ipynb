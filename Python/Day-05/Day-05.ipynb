{
 "cells": [
  {
   "cell_type": "markdown",
   "id": "2b2f1d3f",
   "metadata": {},
   "source": [
    "# Tupple, Set, and Dictionary"
   ]
  },
  {
   "cell_type": "markdown",
   "id": "03bacc63",
   "metadata": {},
   "source": [
    "Tupple"
   ]
  },
  {
   "cell_type": "raw",
   "id": "a33efa1e",
   "metadata": {},
   "source": [
    "Tupple: Tuple is a collection of Python objects much like a list. The sequence of values stored in a tuple can be of any type, and they are indexed by integers. \n",
    "\n",
    "Tupple is Immutable."
   ]
  },
  {
   "cell_type": "raw",
   "id": "76455e50",
   "metadata": {},
   "source": [
    "Creating a Tuple\n",
    "\n",
    "tup1 = (1,) ------> tuple with 1 item\n",
    "\n",
    "tup2 = (1, 2, 3, \"Amit\", 2.4)\n"
   ]
  },
  {
   "cell_type": "raw",
   "id": "b39aaf5f",
   "metadata": {},
   "source": [
    "Tuple can be access by using index number."
   ]
  },
  {
   "cell_type": "code",
   "execution_count": 6,
   "id": "0c25dff8",
   "metadata": {},
   "outputs": [
    {
     "name": "stdout",
     "output_type": "stream",
     "text": [
      "<class 'int'>\n",
      "<class 'tuple'>\n",
      "4\n",
      "true\n"
     ]
    }
   ],
   "source": [
    "tup = (1)\n",
    "print(type(tup))\n",
    "tup1 = (1,)\n",
    "print(type(tup1))\n",
    "tup3 = (1,2,3,4,223,12, \"green\")\n",
    "\n",
    "print(tup3[3])\n",
    "\n",
    "if \"green\" in tup3:\n",
    "    print(\"true\")\n",
    "else: print(\"False\")\n",
    "    \n",
    "\n",
    "tup4 = tup3[0:4]"
   ]
  },
  {
   "cell_type": "markdown",
   "id": "e3d9be99",
   "metadata": {},
   "source": [
    "Method"
   ]
  },
  {
   "cell_type": "code",
   "execution_count": 10,
   "id": "60938b4d",
   "metadata": {},
   "outputs": [
    {
     "name": "stdout",
     "output_type": "stream",
     "text": [
      "6\n"
     ]
    }
   ],
   "source": [
    "# we can concatinate two tuple to create another tuple\n",
    "\n",
    "# count() method.\n",
    "# index() method. Give occurence of given element\n",
    "\n",
    "\n",
    "tuple1 = (0,2,4,1,2,54)\n",
    "# res = tuple1.count(2)\n",
    "# res = tuple1.index(54)\n",
    "# res = tuple1.index(1,2,4)\n",
    "res = len(tuple1)\n",
    "print(res)"
   ]
  },
  {
   "cell_type": "markdown",
   "id": "d8571499",
   "metadata": {},
   "source": [
    "SET"
   ]
  },
  {
   "cell_type": "raw",
   "id": "f2eeba12",
   "metadata": {},
   "source": [
    "Sets in Python are an essential data structure used for storing collections of unique elements. Here are some important things to know about sets in Python:\n",
    "\n",
    "\n",
    "Definition: A set is an unordered collection of distinct elements enclosed in curly braces {} or created using the set() constructor.\n",
    "\n",
    "\n",
    "Uniqueness: Sets do not allow duplicate elements. If you try to add a duplicate element, it will be ignored.\n",
    "\n",
    "\n",
    "Mutable: Sets are mutable, meaning you can add or remove elements after creation.\n",
    "\n",
    "\n",
    "No Indexing: Sets are unordered, so they do not support indexing or slicing like lists or tuples.\n",
    "\n",
    "\n",
    "Common Operations:\n",
    "\n",
    "Adding Elements: You can add elements to a set using the add() method or by using the update() method to add multiple elements.\n",
    "\n",
    "Removing Elements: You can remove elements using the remove(), discard(), or pop() methods.\n",
    "\n",
    "Set Operations: Sets support various set operations like union, intersection, difference, and symmetric difference.\n",
    "Mathematical Set Operations:\n",
    "\n",
    "union(): Returns a set containing all unique elements from both sets.\n",
    "\n",
    "intersection(): Returns a set containing elements common to both sets.\n",
    "\n",
    "difference(): Returns a set containing elements that are in the first set but not in the second.\n",
    "\n",
    "symmetric_difference(): Returns a set containing elements that are in either of the sets, but not in both.\n",
    "\n",
    "Set Comprehensions: Sets support comprehensions similar to lists and dictionaries.\n",
    "\n",
    "\n",
    "\n",
    "Built-in Functions:\n",
    "\n",
    "len(): Returns the number of elements in a set.\n",
    "\n",
    "in: Used to check if an element is in the set.\n",
    "\n",
    "Frozen Sets: Python also provides \"frozen sets,\" which are like sets but immutable. Once created, you cannot add or remove elements from a frozen set.\n",
    "\n",
    "Iterating Through Sets: You can use a for loop to iterate through the elements of a set."
   ]
  },
  {
   "cell_type": "code",
   "execution_count": 3,
   "id": "7e3c57c0",
   "metadata": {},
   "outputs": [
    {
     "name": "stdout",
     "output_type": "stream",
     "text": [
      "{1, 2, 3}\n"
     ]
    }
   ],
   "source": [
    "# Creating a set\n",
    "my_set = {1, 2, 3}\n",
    "\n",
    "# Adding elements\n",
    "my_set.add(4)\n",
    "\n",
    "# Removing elements\n",
    "my_set.remove(2)\n",
    "\n",
    "# Set operations\n",
    "set1 = {1, 2, 3}\n",
    "set2 = {3, 4, 5}\n",
    "union_set = set1.union(set2)\n",
    "intersection_set = set1.intersection(set2)\n",
    "print(set1)"
   ]
  },
  {
   "cell_type": "markdown",
   "id": "c7310836",
   "metadata": {},
   "source": [
    "Dictionary"
   ]
  },
  {
   "cell_type": "code",
   "execution_count": null,
   "id": "aa0eb131",
   "metadata": {},
   "outputs": [],
   "source": [
    "# Mappings / Dictionaries\n",
    "\n",
    "# **Mappings / Dictionaries:**\n",
    "\n",
    "# - Dictionaries are unordered Key-value-pairs.\n",
    "# - Keys are Immutable, where as, the values are mutable. \n",
    "# - Dictionary is created by using curly brackets - {}.\n",
    "# - Dictionaries are accessed via keys and not via their position. \n",
    "# - A dictionary is an associative array (also known as hashes). Any key of the dictionary is associated (or mapped) to a value(s). \n",
    "# - The values of a dictionary can be any Python data type.\n",
    "# - Dictionaries don't support the sequence operation of the sequence data types like strings, tuples and lists.\n",
    "\n",
    "# Dictionaries ---> dict ---> Unordered key value pairs {'mykey':'value'} (Also known as Mapping Type)\n",
    "# Accessing values in dictionary\n",
    "\n",
    "dict1 = {'Name': 'Sharat', 'Age': 40, 'bike': 'Honda'}\n",
    "\n",
    "print(dict1)\n",
    "\n",
    "print(dict1['Name'])\n",
    "\n",
    "print(dict1['Age'])\n",
    "\n",
    "# Updating dictionary\n",
    "dict1 = {'Name': 'Divit', 'Age': 8, 'bike': 'Bycycle'}\n",
    "\n",
    "# Update existing entry\n",
    "dict1['Age'] = 9\n",
    "\n",
    "# Add new entry\n",
    "dict1['School'] = \"DPS School\"\n",
    "\n",
    "dict1['sal'] = 50000\n",
    "\n",
    "print(dict1['Age'])\n",
    "print(dict1['School'])\n",
    "print(dict1['sal'])\n",
    "\n",
    "dict1.keys()\n",
    "dict1.values()\n",
    "dict1.items()\n",
    "\n",
    "# Delete dictionary elements\n",
    "dict1 = {'Name': 'Sharat', 'Age': 40, 'bike': 'Honda'}\n",
    "\n",
    "# Remove entry with key 'Name'\n",
    "del(dict1['Name'])\n",
    "dict1\n",
    "\n",
    "# Remove all entries in given dictionary\n",
    "dict1.clear()\n",
    "dict1\n",
    "\n",
    "# Delete entire dictionary\n",
    "del(dict1)\n",
    "\n",
    "# Once dictionary is deleted the object does not exist\n",
    "print(dict1['Age'])\n",
    "\n",
    "d = {'k1':123,'k2':[8,9,10],'k3':{'inside_key':100}}\n",
    "\n",
    "print(d)\n",
    "\n",
    "print(d['k1'])\n",
    "\n",
    "print(d['k2'])\n",
    "\n",
    "print(d['k2'][1])\n",
    "\n",
    "print(d['k3'])\n",
    "print(d['k3']['inside_key'])\n"
   ]
  }
 ],
 "metadata": {
  "kernelspec": {
   "display_name": "Python 3 (ipykernel)",
   "language": "python",
   "name": "python3"
  },
  "language_info": {
   "codemirror_mode": {
    "name": "ipython",
    "version": 3
   },
   "file_extension": ".py",
   "mimetype": "text/x-python",
   "name": "python",
   "nbconvert_exporter": "python",
   "pygments_lexer": "ipython3",
   "version": "3.11.5"
  }
 },
 "nbformat": 4,
 "nbformat_minor": 5
}
