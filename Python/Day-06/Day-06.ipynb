{
 "cells": [
  {
   "cell_type": "markdown",
   "id": "19304b6f",
   "metadata": {},
   "source": [
    "# Conditional Statement:"
   ]
  },
  {
   "cell_type": "raw",
   "id": "ccaa984c",
   "metadata": {},
   "source": [
    "The Basic decision statements in computer is selection structure.\n",
    "\n",
    "The decision is described to computer as a conditional statement that can be answered true or false.\n",
    "\n",
    "Python provide following conditional statement:\n",
    "    if statement\n",
    "    if - else statement\n",
    "    if - elif - else statement\n",
    "    nested if - else statement.\n",
    "\n"
   ]
  },
  {
   "cell_type": "markdown",
   "id": "c0a47d1d",
   "metadata": {},
   "source": [
    "# Practice \n"
   ]
  },
  {
   "cell_type": "code",
   "execution_count": 1,
   "id": "42c7cb7d",
   "metadata": {},
   "outputs": [
    {
     "name": "stdout",
     "output_type": "stream",
     "text": [
      "Enter any Number: 11\n",
      "Number is Positive.\n"
     ]
    }
   ],
   "source": [
    "# Write a Python program that checks if a given number is even or odd and prints an appropriate message.\n",
    "\n",
    "num = int(input(\"Enter any Number: \"))\n",
    "if num>=0:\n",
    "    print(\"Number is Positive.\")\n",
    "else:\n",
    "    print(\"Number is Negative\")\n"
   ]
  },
  {
   "cell_type": "code",
   "execution_count": 2,
   "id": "268ccb5a",
   "metadata": {},
   "outputs": [
    {
     "name": "stdout",
     "output_type": "stream",
     "text": [
      "What is your age: 18\n",
      "You can vote.\n"
     ]
    }
   ],
   "source": [
    "# Create a program that asks the user for their age and tells them whether they are eligible to vote.\n",
    "\n",
    "age = int(input(\"What is your age: \"))\n",
    "if age>=18:\n",
    "    print(\"You can vote.\")\n",
    "else:\n",
    "    print(\"You can not vote.\")"
   ]
  },
  {
   "cell_type": "code",
   "execution_count": 3,
   "id": "70c66c0c",
   "metadata": {},
   "outputs": [
    {
     "name": "stdout",
     "output_type": "stream",
     "text": [
      "Enter your Marks: -15\n",
      "Invalid Marks.\n"
     ]
    }
   ],
   "source": [
    "# Write a program that takes a numeric grade as input and prints the corresponding letter grade (A, B, C, D, or F) \n",
    "# based on the following grading scale:\n",
    "\n",
    "# A: 90-100\n",
    "# B: 80-89\n",
    "# C: 70-79\n",
    "# D: 60-69\n",
    "# F: 0-59\n",
    "\n",
    "marks = int(input(\"Enter your Marks: \"))\n",
    "\n",
    "if marks>=90 and marks<=100:\n",
    "    print(\"Grade A.\")\n",
    "elif marks>=80 and marks<90:\n",
    "    print(\"Grade B.\")\n",
    "elif marks>=70 and marks<80:\n",
    "    print(\"Grade C.\")\n",
    "elif marks>=60 and marks<70:\n",
    "    print(\"Grade D\")\n",
    "elif marks>=0 and marks<60:\n",
    "    print(\"Grade F\")\n",
    "else:\n",
    "    print(\"Invalid Marks.\")"
   ]
  },
  {
   "cell_type": "code",
   "execution_count": 9,
   "id": "02e9d123",
   "metadata": {},
   "outputs": [
    {
     "name": "stdout",
     "output_type": "stream",
     "text": [
      "Enter 1st Number: 3\n",
      "Enter 2nd Number: 2\n",
      "Choose: \n",
      "+ For Addition: \n",
      "- For Subtrction: \n",
      "* For multiplication: \n",
      "/ For Division :\n",
      "Please Enter Your Choice: ^\n",
      "Invalid Input\n"
     ]
    }
   ],
   "source": [
    "# Create a program that asks the user for two numbers and an operator (+, -, *, /) and performs the corresponding calculation.\n",
    "\n",
    "a = eval(input(\"Enter 1st Number: \"))\n",
    "b = eval(input(\"Enter 2nd Number: \"))\n",
    "print(\"Choose: \")\n",
    "print(\"+ For Addition: \")\n",
    "print(\"- For Subtrction: \")\n",
    "print(\"* For multiplication: \")\n",
    "print(\"/ For Division :\")\n",
    "\n",
    "operator = input(\"Please Enter Your Choice: \")\n",
    "match operator:\n",
    "    case \"+\":\n",
    "        print(\"Sum of Numbers:\",a+b)\n",
    "    case \"-\":\n",
    "        print(\"Subtraction of Numbers:\",a-b)\n",
    "    case \"*\":\n",
    "        print(\"Multiplication of Numbers:\",a*b)\n",
    "    case \"/\":\n",
    "        print(\"Division of Numbers:\",a/b)\n",
    "    case _ :\n",
    "        print(\"Invalid Choice!!\")"
   ]
  },
  {
   "cell_type": "code",
   "execution_count": 13,
   "id": "4e2ace7d",
   "metadata": {},
   "outputs": [
    {
     "name": "stdout",
     "output_type": "stream",
     "text": [
      "Enter your weight in kilograms: 5000\n",
      "Enter your height in meters: 152\n",
      "0.21641274238227146\n",
      "Your BMI is 0.22, which is considered underweight.\n"
     ]
    }
   ],
   "source": [
    "# Write a program that asks the user for their weight in kilograms and their height in meters and calculates their \n",
    "# BMI (Body Mass Index). \n",
    "# Based on the BMI, print a message indicating whether they are underweight, normal weight, overweight, or obese.\n",
    "\n",
    "\n",
    "weight_kg = float(input(\"Enter your weight in kilograms: \"))\n",
    "height_m = float(input(\"Enter your height in meters: \"))\n",
    "\n",
    "# Calculate BMI\n",
    "bmi = weight_kg / (height_m ** 2)\n",
    "print(bmi)\n",
    "# Determine weight status\n",
    "if bmi < 18.5:\n",
    "    status = \"underweight\"\n",
    "elif 18.5 <= bmi < 24.9:\n",
    "    status = \"normal weight\"\n",
    "elif 25 <= bmi < 29.9:\n",
    "    status = \"overweight\"\n",
    "else:\n",
    "    status = \"obese\"\n",
    "\n",
    "# Print the BMI and weight status\n",
    "print(f\"Your BMI is {bmi:.2f}, which is considered {status}.\")\n"
   ]
  }
 ],
 "metadata": {
  "kernelspec": {
   "display_name": "Python 3 (ipykernel)",
   "language": "python",
   "name": "python3"
  },
  "language_info": {
   "codemirror_mode": {
    "name": "ipython",
    "version": 3
   },
   "file_extension": ".py",
   "mimetype": "text/x-python",
   "name": "python",
   "nbconvert_exporter": "python",
   "pygments_lexer": "ipython3",
   "version": "3.11.5"
  }
 },
 "nbformat": 4,
 "nbformat_minor": 5
}
